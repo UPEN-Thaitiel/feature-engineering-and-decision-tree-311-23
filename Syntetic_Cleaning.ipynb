{
 "cells": [
  {
   "cell_type": "markdown",
   "id": "bf7ade20",
   "metadata": {},
   "source": [
    "#### Student Depression Variable Imputation\n",
    "\n",
    "**Name:** Brayan Olivares\n"
   ]
  },
  {
   "cell_type": "markdown",
   "id": "f5955074",
   "metadata": {},
   "source": [
    "#### Import Libraries"
   ]
  },
  {
   "cell_type": "code",
   "execution_count": 6,
   "id": "ca7cdaaa",
   "metadata": {},
   "outputs": [],
   "source": [
    "import pandas as pd\n",
    "import numpy as np\n",
    "\n",
    "# Visualización\n",
    "import matplotlib.pyplot as plt\n",
    "import seaborn as sns\n",
    "\n",
    "# Para imputación de valores faltantes\n",
    "from sklearn.impute import SimpleImputer\n",
    "from sklearn.experimental import enable_iterative_imputer\n",
    "from sklearn.impute import IterativeImputer\n",
    "\n",
    "# Para preprocesamiento\n",
    "from sklearn.preprocessing import StandardScaler, MinMaxScaler\n",
    "\n",
    "# Configuración de visualizaciones\n",
    "%matplotlib inline\n",
    "sns.set(style='whitegrid')\n",
    "plt.rcParams['figure.figsize'] = (10, 6)"
   ]
  },
  {
   "cell_type": "markdown",
   "id": "b6a4bd2a",
   "metadata": {},
   "source": [
    "#### Read Dataset"
   ]
  },
  {
   "cell_type": "code",
   "execution_count": 7,
   "id": "6fa5b522",
   "metadata": {},
   "outputs": [
    {
     "data": {
      "text/html": [
       "<div>\n",
       "<style scoped>\n",
       "    .dataframe tbody tr th:only-of-type {\n",
       "        vertical-align: middle;\n",
       "    }\n",
       "\n",
       "    .dataframe tbody tr th {\n",
       "        vertical-align: top;\n",
       "    }\n",
       "\n",
       "    .dataframe thead th {\n",
       "        text-align: right;\n",
       "    }\n",
       "</style>\n",
       "<table border=\"1\" class=\"dataframe\">\n",
       "  <thead>\n",
       "    <tr style=\"text-align: right;\">\n",
       "      <th></th>\n",
       "      <th>Age</th>\n",
       "      <th>Income</th>\n",
       "      <th>Gender</th>\n",
       "      <th>Registered</th>\n",
       "      <th>City</th>\n",
       "    </tr>\n",
       "  </thead>\n",
       "  <tbody>\n",
       "    <tr>\n",
       "      <th>0</th>\n",
       "      <td>34.967142</td>\n",
       "      <td>28769.438869</td>\n",
       "      <td>Male</td>\n",
       "      <td>1.0</td>\n",
       "      <td>New York</td>\n",
       "    </tr>\n",
       "    <tr>\n",
       "      <th>1</th>\n",
       "      <td>28.617357</td>\n",
       "      <td>43690.320159</td>\n",
       "      <td>Female</td>\n",
       "      <td>0.0</td>\n",
       "      <td>Paris</td>\n",
       "    </tr>\n",
       "    <tr>\n",
       "      <th>2</th>\n",
       "      <td>36.476885</td>\n",
       "      <td>44859.282252</td>\n",
       "      <td>MALE</td>\n",
       "      <td>1.0</td>\n",
       "      <td>Tokyo</td>\n",
       "    </tr>\n",
       "    <tr>\n",
       "      <th>3</th>\n",
       "      <td>45.230299</td>\n",
       "      <td>37965.840962</td>\n",
       "      <td>FEMALE</td>\n",
       "      <td>0.0</td>\n",
       "      <td>Berlin</td>\n",
       "    </tr>\n",
       "    <tr>\n",
       "      <th>4</th>\n",
       "      <td>27.658466</td>\n",
       "      <td>47580.714325</td>\n",
       "      <td>male</td>\n",
       "      <td>1.0</td>\n",
       "      <td>New York</td>\n",
       "    </tr>\n",
       "  </tbody>\n",
       "</table>\n",
       "</div>"
      ],
      "text/plain": [
       "         Age        Income  Gender  Registered      City\n",
       "0  34.967142  28769.438869    Male         1.0  New York\n",
       "1  28.617357  43690.320159  Female         0.0     Paris\n",
       "2  36.476885  44859.282252    MALE         1.0     Tokyo\n",
       "3  45.230299  37965.840962  FEMALE         0.0    Berlin\n",
       "4  27.658466  47580.714325    male         1.0  New York"
      ]
     },
     "metadata": {},
     "output_type": "display_data"
    },
    {
     "name": "stdout",
     "output_type": "stream",
     "text": [
      "\n",
      "Información del dataset:\n",
      "<class 'pandas.core.frame.DataFrame'>\n",
      "RangeIndex: 104 entries, 0 to 103\n",
      "Data columns (total 5 columns):\n",
      " #   Column      Non-Null Count  Dtype  \n",
      "---  ------      --------------  -----  \n",
      " 0   Age         103 non-null    float64\n",
      " 1   Income      103 non-null    float64\n",
      " 2   Gender      84 non-null     object \n",
      " 3   Registered  103 non-null    float64\n",
      " 4   City        103 non-null    object \n",
      "dtypes: float64(3), object(2)\n",
      "memory usage: 4.2+ KB\n",
      "None\n",
      "\n",
      "Estadísticas descriptivas:\n"
     ]
    },
    {
     "data": {
      "text/html": [
       "<div>\n",
       "<style scoped>\n",
       "    .dataframe tbody tr th:only-of-type {\n",
       "        vertical-align: middle;\n",
       "    }\n",
       "\n",
       "    .dataframe tbody tr th {\n",
       "        vertical-align: top;\n",
       "    }\n",
       "\n",
       "    .dataframe thead th {\n",
       "        text-align: right;\n",
       "    }\n",
       "</style>\n",
       "<table border=\"1\" class=\"dataframe\">\n",
       "  <thead>\n",
       "    <tr style=\"text-align: right;\">\n",
       "      <th></th>\n",
       "      <th>Age</th>\n",
       "      <th>Income</th>\n",
       "      <th>Gender</th>\n",
       "      <th>Registered</th>\n",
       "      <th>City</th>\n",
       "    </tr>\n",
       "  </thead>\n",
       "  <tbody>\n",
       "    <tr>\n",
       "      <th>count</th>\n",
       "      <td>103.000000</td>\n",
       "      <td>103.000000</td>\n",
       "      <td>84</td>\n",
       "      <td>103.000000</td>\n",
       "      <td>103</td>\n",
       "    </tr>\n",
       "    <tr>\n",
       "      <th>unique</th>\n",
       "      <td>NaN</td>\n",
       "      <td>NaN</td>\n",
       "      <td>8</td>\n",
       "      <td>NaN</td>\n",
       "      <td>4</td>\n",
       "    </tr>\n",
       "    <tr>\n",
       "      <th>top</th>\n",
       "      <td>NaN</td>\n",
       "      <td>NaN</td>\n",
       "      <td>Male</td>\n",
       "      <td>NaN</td>\n",
       "      <td>New York</td>\n",
       "    </tr>\n",
       "    <tr>\n",
       "      <th>freq</th>\n",
       "      <td>NaN</td>\n",
       "      <td>NaN</td>\n",
       "      <td>12</td>\n",
       "      <td>NaN</td>\n",
       "      <td>27</td>\n",
       "    </tr>\n",
       "    <tr>\n",
       "      <th>mean</th>\n",
       "      <td>29.573987</td>\n",
       "      <td>51079.867179</td>\n",
       "      <td>NaN</td>\n",
       "      <td>0.504854</td>\n",
       "      <td>NaN</td>\n",
       "    </tr>\n",
       "    <tr>\n",
       "      <th>std</th>\n",
       "      <td>13.137300</td>\n",
       "      <td>21167.304578</td>\n",
       "      <td>NaN</td>\n",
       "      <td>0.502421</td>\n",
       "      <td>NaN</td>\n",
       "    </tr>\n",
       "    <tr>\n",
       "      <th>min</th>\n",
       "      <td>-5.000000</td>\n",
       "      <td>-1000.000000</td>\n",
       "      <td>NaN</td>\n",
       "      <td>0.000000</td>\n",
       "      <td>NaN</td>\n",
       "    </tr>\n",
       "    <tr>\n",
       "      <th>25%</th>\n",
       "      <td>23.988273</td>\n",
       "      <td>37726.305475</td>\n",
       "      <td>NaN</td>\n",
       "      <td>0.000000</td>\n",
       "      <td>NaN</td>\n",
       "    </tr>\n",
       "    <tr>\n",
       "      <th>50%</th>\n",
       "      <td>28.843517</td>\n",
       "      <td>51028.444622</td>\n",
       "      <td>NaN</td>\n",
       "      <td>1.000000</td>\n",
       "      <td>NaN</td>\n",
       "    </tr>\n",
       "    <tr>\n",
       "      <th>75%</th>\n",
       "      <td>34.967142</td>\n",
       "      <td>58315.989946</td>\n",
       "      <td>NaN</td>\n",
       "      <td>1.000000</td>\n",
       "      <td>NaN</td>\n",
       "    </tr>\n",
       "    <tr>\n",
       "      <th>max</th>\n",
       "      <td>120.000000</td>\n",
       "      <td>200000.000000</td>\n",
       "      <td>NaN</td>\n",
       "      <td>1.000000</td>\n",
       "      <td>NaN</td>\n",
       "    </tr>\n",
       "  </tbody>\n",
       "</table>\n",
       "</div>"
      ],
      "text/plain": [
       "               Age         Income Gender  Registered      City\n",
       "count   103.000000     103.000000     84  103.000000       103\n",
       "unique         NaN            NaN      8         NaN         4\n",
       "top            NaN            NaN   Male         NaN  New York\n",
       "freq           NaN            NaN     12         NaN        27\n",
       "mean     29.573987   51079.867179    NaN    0.504854       NaN\n",
       "std      13.137300   21167.304578    NaN    0.502421       NaN\n",
       "min      -5.000000   -1000.000000    NaN    0.000000       NaN\n",
       "25%      23.988273   37726.305475    NaN    0.000000       NaN\n",
       "50%      28.843517   51028.444622    NaN    1.000000       NaN\n",
       "75%      34.967142   58315.989946    NaN    1.000000       NaN\n",
       "max     120.000000  200000.000000    NaN    1.000000       NaN"
      ]
     },
     "metadata": {},
     "output_type": "display_data"
    }
   ],
   "source": [
    "# Leer el archivo CSV\n",
    "df = pd.read_csv('Synthetic_Data_Cleaning_example.csv')\n",
    "\n",
    "# Mostrar las primeras filas para inspección inicial\n",
    "display(df.head())\n",
    "\n",
    "# Información básica del dataset\n",
    "print(\"\\nInformación del dataset:\")\n",
    "print(df.info())\n",
    "\n",
    "# Estadísticas descriptivas\n",
    "print(\"\\nEstadísticas descriptivas:\")\n",
    "display(df.describe(include='all'))"
   ]
  },
  {
   "cell_type": "markdown",
   "id": "294c7ae7",
   "metadata": {},
   "source": [
    "#### Exploratory Data Analysis"
   ]
  },
  {
   "cell_type": "code",
   "execution_count": 8,
   "id": "9dea2181",
   "metadata": {},
   "outputs": [
    {
     "name": "stdout",
     "output_type": "stream",
     "text": [
      "Valores faltantes por columna:\n"
     ]
    },
    {
     "data": {
      "text/plain": [
       "Gender        20\n",
       "Age            1\n",
       "Income         1\n",
       "Registered     1\n",
       "City           1\n",
       "dtype: int64"
      ]
     },
     "metadata": {},
     "output_type": "display_data"
    },
    {
     "data": {
      "image/png": "[encoded data removed]",
      "text/plain": [
       "<Figure size 1200x600 with 1 Axes>"
      ]
     },
     "metadata": {},
     "output_type": "display_data"
    }
   ],
   "source": [
    "# 1. Análisis de valores faltantes\n",
    "print(\"Valores faltantes por columna:\")\n",
    "missing_data = df.isnull().sum().sort_values(ascending=False)\n",
    "display(missing_data[missing_data > 0])\n",
    "\n",
    "# Visualización de valores faltantes\n",
    "plt.figure(figsize=(12, 6))\n",
    "sns.heatmap(df.isnull(), cbar=False, cmap='viridis')\n",
    "plt.title(\"Mapa de valores faltantes en el dataset\")\n",
    "plt.show()"
   ]
  },
  {
   "cell_type": "code",
   "execution_count": 9,
   "id": "d0793ea6",
   "metadata": {},
   "outputs": [
    {
     "data": {
      "image/png": "[encoded data removed]",
      "text/plain": [
       "<Figure size 1500x1000 with 4 Axes>"
      ]
     },
     "metadata": {},
     "output_type": "display_data"
    }
   ],
   "source": [
    "# 2. Análisis de distribuciones\n",
    "# Selecciona columnas numéricas\n",
    "numeric_cols = df.select_dtypes(include=['int64', 'float64']).columns\n",
    "\n",
    "# Histogramas para variables numéricas\n",
    "df[numeric_cols].hist(bins=20, figsize=(15, 10))\n",
    "plt.suptitle(\"Distribución de variables numéricas\")\n",
    "plt.tight_layout()\n",
    "plt.show()"
   ]
  },
  {
   "cell_type": "code",
   "execution_count": 10,
   "id": "529c12e1",
   "metadata": {},
   "outputs": [
    {
     "name": "stdout",
     "output_type": "stream",
     "text": [
      "\n",
      "Análisis de variables categóricas:\n",
      "\n",
      "Frecuencia en Gender:\n"
     ]
    },
    {
     "data": {
      "text/plain": [
       "Gender\n",
       "Male      0.142857\n",
       "Female    0.130952\n",
       "MALE      0.130952\n",
       "FEMALE    0.119048\n",
       "male      0.119048\n",
       "female    0.119048\n",
       "femle     0.119048\n",
       "Femael    0.119048\n",
       "Name: proportion, dtype: float64"
      ]
     },
     "metadata": {},
     "output_type": "display_data"
    },
    {
     "data": {
      "image/png": "[encoded data removed]",
      "text/plain": [
       "<Figure size 800x400 with 1 Axes>"
      ]
     },
     "metadata": {},
     "output_type": "display_data"
    },
    {
     "name": "stdout",
     "output_type": "stream",
     "text": [
      "\n",
      "Frecuencia en City:\n"
     ]
    },
    {
     "data": {
      "text/plain": [
       "City\n",
       "New York    0.262136\n",
       "Berlin      0.252427\n",
       "Paris       0.242718\n",
       "Tokyo       0.242718\n",
       "Name: proportion, dtype: float64"
      ]
     },
     "metadata": {},
     "output_type": "display_data"
    },
    {
     "data": {
      "image/png": "[encoded data removed]",
      "text/plain": [
       "<Figure size 800x400 with 1 Axes>"
      ]
     },
     "metadata": {},
     "output_type": "display_data"
    }
   ],
   "source": [
    "# 3. Análisis de variables categóricas (si existen)\n",
    "categorical_cols = df.select_dtypes(include=['object', 'category']).columns\n",
    "if len(categorical_cols) > 0:\n",
    "    print(\"\\nAnálisis de variables categóricas:\")\n",
    "    for col in categorical_cols:\n",
    "        print(f\"\\nFrecuencia en {col}:\")\n",
    "        display(df[col].value_counts(normalize=True))\n",
    "        \n",
    "        plt.figure(figsize=(8, 4))\n",
    "        sns.countplot(data=df, x=col)\n",
    "        plt.title(f\"Distribución de {col}\")\n",
    "        plt.xticks(rotation=45)\n",
    "        plt.show()"
   ]
  },
  {
   "cell_type": "code",
   "execution_count": 11,
   "id": "cb54a07d",
   "metadata": {},
   "outputs": [
    {
     "data": {
      "image/png": "[encoded data removed]",
      "text/plain": [
       "<Figure size 1200x600 with 1 Axes>"
      ]
     },
     "metadata": {},
     "output_type": "display_data"
    }
   ],
   "source": [
    "# 4. Detección de outliers\n",
    "plt.figure(figsize=(12, 6))\n",
    "sns.boxplot(data=df[numeric_cols])\n",
    "plt.title(\"Detección de outliers en variables numéricas\")\n",
    "plt.xticks(rotation=45)\n",
    "plt.show()"
   ]
  },
  {
   "cell_type": "markdown",
   "id": "91629739",
   "metadata": {},
   "source": [
    "#### Data Cleaning"
   ]
  },
  {
   "cell_type": "code",
   "execution_count": 12,
   "id": "2bd5c237",
   "metadata": {},
   "outputs": [],
   "source": [
    "# 1. Copia del dataframe original para seguridad\n",
    "df_clean = df.copy()\n"
   ]
  },
  {
   "cell_type": "code",
   "execution_count": 13,
   "id": "8f9668c9",
   "metadata": {},
   "outputs": [
    {
     "name": "stdout",
     "output_type": "stream",
     "text": [
      "Total de filas duplicadas: 1\n"
     ]
    }
   ],
   "source": [
    "# 2. Verificar duplicados\n",
    "print(f\"Total de filas duplicadas: {df_clean.duplicated().sum()}\")"
   ]
  },
  {
   "cell_type": "code",
   "execution_count": 14,
   "id": "d9f4942f",
   "metadata": {},
   "outputs": [],
   "source": [
    "# 3. Eliminar duplicados\n",
    "df_clean = df_clean.drop_duplicates()"
   ]
  },
  {
   "cell_type": "code",
   "execution_count": 15,
   "id": "5ac63c38",
   "metadata": {},
   "outputs": [
    {
     "name": "stdout",
     "output_type": "stream",
     "text": [
      "Tipos de datos actuales:\n"
     ]
    },
    {
     "data": {
      "text/plain": [
       "Age           float64\n",
       "Income        float64\n",
       "Gender         object\n",
       "Registered    float64\n",
       "City           object\n",
       "dtype: object"
      ]
     },
     "metadata": {},
     "output_type": "display_data"
    }
   ],
   "source": [
    "# 4. Revisar tipos de datos\n",
    "print(\"Tipos de datos actuales:\")\n",
    "display(df_clean.dtypes)"
   ]
  },
  {
   "cell_type": "code",
   "execution_count": 16,
   "id": "0237014d",
   "metadata": {},
   "outputs": [
    {
     "name": "stdout",
     "output_type": "stream",
     "text": [
      "Valores faltantes iniciales:\n",
      " Age            1\n",
      "Income         1\n",
      "Gender        20\n",
      "Registered     1\n",
      "City           1\n",
      "dtype: int64\n"
     ]
    }
   ],
   "source": [
    "# 5. Reporte de valores faltantes inicial\n",
    "print(\"Valores faltantes iniciales:\\n\", df_clean.isnull().sum())\n"
   ]
  },
  {
   "cell_type": "code",
   "execution_count": 17,
   "id": "b612906d",
   "metadata": {},
   "outputs": [],
   "source": [
    "# 6. Imputar 'Age' (media) - Nota: .ravel() convierte a 1D\n",
    "imputer_age = SimpleImputer(strategy='mean')\n",
    "df_clean['Age'] = imputer_age.fit_transform(df_clean[['Age']]).ravel()"
   ]
  },
  {
   "cell_type": "code",
   "execution_count": 18,
   "id": "7d9cc8b9",
   "metadata": {},
   "outputs": [],
   "source": [
    "# 7. Imputar 'Income' (mediana)\n",
    "imputer_income = SimpleImputer(strategy='median')\n",
    "df_clean['Income'] = imputer_income.fit_transform(df_clean[['Income']]).ravel()"
   ]
  },
  {
   "cell_type": "code",
   "execution_count": 19,
   "id": "c1f87398",
   "metadata": {},
   "outputs": [],
   "source": [
    "# 8. Imputar 'Gender' (moda) - ¡Corrección clave!\n",
    "imputer_gender = SimpleImputer(strategy='most_frequent')\n",
    "df_clean['Gender'] = imputer_gender.fit_transform(df_clean[['Gender']]).ravel()"
   ]
  },
  {
   "cell_type": "code",
   "execution_count": 20,
   "id": "3dafd882",
   "metadata": {},
   "outputs": [],
   "source": [
    "# 9. Imputar 'Registered' (moda)\n",
    "imputer_reg = SimpleImputer(strategy='most_frequent')\n",
    "df_clean['Registered'] = imputer_reg.fit_transform(df_clean[['Registered']]).ravel()"
   ]
  },
  {
   "cell_type": "code",
   "execution_count": 21,
   "id": "3a00428f",
   "metadata": {},
   "outputs": [],
   "source": [
    "# 10. Imputar 'City' (valor personalizado)\n",
    "df_clean['City'] = df_clean['City'].fillna('Desconocido')"
   ]
  },
  {
   "cell_type": "code",
   "execution_count": 22,
   "id": "17e9a5da",
   "metadata": {},
   "outputs": [
    {
     "name": "stdout",
     "output_type": "stream",
     "text": [
      "\n",
      "Valores faltantes después de imputar:\n",
      " Age           0\n",
      "Income        0\n",
      "Gender        0\n",
      "Registered    0\n",
      "City          0\n",
      "dtype: int64\n"
     ]
    }
   ],
   "source": [
    "# 11. Verificar resultados\n",
    "print(\"\\nValores faltantes después de imputar:\\n\", df_clean.isnull().sum())"
   ]
  },
  {
   "cell_type": "code",
   "execution_count": 23,
   "id": "95b9147e",
   "metadata": {},
   "outputs": [
    {
     "name": "stdout",
     "output_type": "stream",
     "text": [
      "\n",
      "Resumen de imputación:\n",
      "- Media de Age: 29.52\n",
      "- Mediana de Income: 51261.61\n",
      "- Moda de Gender: Female\n",
      "- Moda de Registered: 0.0\n"
     ]
    }
   ],
   "source": [
    "# 12. Estadísticas post-imputación\n",
    "print(\"\\nResumen de imputación:\")\n",
    "print(f\"- Media de Age: {imputer_age.statistics_[0]:.2f}\")\n",
    "print(f\"- Mediana de Income: {imputer_income.statistics_[0]:.2f}\")\n",
    "print(f\"- Moda de Gender: {imputer_gender.statistics_[0]}\")\n",
    "print(f\"- Moda de Registered: {imputer_reg.statistics_[0]}\")"
   ]
  },
  {
   "cell_type": "code",
   "execution_count": 24,
   "id": "147e4be2",
   "metadata": {},
   "outputs": [],
   "source": [
    "# 13. Normalizar 'Gender' (ejemplo: mayúsculas)\n",
    "df_clean['Gender'] = df_clean['Gender'].str.upper()"
   ]
  },
  {
   "cell_type": "code",
   "execution_count": 25,
   "id": "d2763b70",
   "metadata": {},
   "outputs": [],
   "source": [
    "# 14. Codificar 'Gender' (Male=1, Female=0)\n",
    "df_clean['Gender_encoded'] = df_clean['Gender'].map({'MALE': 1, 'FEMALE': 0})"
   ]
  },
  {
   "cell_type": "code",
   "execution_count": 26,
   "id": "c987348e",
   "metadata": {},
   "outputs": [],
   "source": [
    "# 15. One-Hot Encoding para 'City'\n",
    "df_clean = pd.get_dummies(df_clean, columns=['City'], prefix='City')"
   ]
  },
  {
   "cell_type": "code",
   "execution_count": 27,
   "id": "9a04ad9c",
   "metadata": {},
   "outputs": [],
   "source": [
    "# 16. Eliminar columnas redundantes (opcional)\n",
    "df_clean.drop('Gender', axis=1, inplace=True) "
   ]
  },
  {
   "cell_type": "code",
   "execution_count": 28,
   "id": "a255d02a",
   "metadata": {},
   "outputs": [
    {
     "name": "stdout",
     "output_type": "stream",
     "text": [
      "\n",
      "Dataset después de limpieza categórica:\n"
     ]
    },
    {
     "data": {
      "text/html": [
       "<div>\n",
       "<style scoped>\n",
       "    .dataframe tbody tr th:only-of-type {\n",
       "        vertical-align: middle;\n",
       "    }\n",
       "\n",
       "    .dataframe tbody tr th {\n",
       "        vertical-align: top;\n",
       "    }\n",
       "\n",
       "    .dataframe thead th {\n",
       "        text-align: right;\n",
       "    }\n",
       "</style>\n",
       "<table border=\"1\" class=\"dataframe\">\n",
       "  <thead>\n",
       "    <tr style=\"text-align: right;\">\n",
       "      <th></th>\n",
       "      <th>Age</th>\n",
       "      <th>Income</th>\n",
       "      <th>Registered</th>\n",
       "      <th>Gender_encoded</th>\n",
       "      <th>City_Berlin</th>\n",
       "      <th>City_Desconocido</th>\n",
       "      <th>City_New York</th>\n",
       "      <th>City_Paris</th>\n",
       "      <th>City_Tokyo</th>\n",
       "    </tr>\n",
       "  </thead>\n",
       "  <tbody>\n",
       "    <tr>\n",
       "      <th>0</th>\n",
       "      <td>34.967142</td>\n",
       "      <td>28769.438869</td>\n",
       "      <td>1.0</td>\n",
       "      <td>1.0</td>\n",
       "      <td>False</td>\n",
       "      <td>False</td>\n",
       "      <td>True</td>\n",
       "      <td>False</td>\n",
       "      <td>False</td>\n",
       "    </tr>\n",
       "    <tr>\n",
       "      <th>1</th>\n",
       "      <td>28.617357</td>\n",
       "      <td>43690.320159</td>\n",
       "      <td>0.0</td>\n",
       "      <td>0.0</td>\n",
       "      <td>False</td>\n",
       "      <td>False</td>\n",
       "      <td>False</td>\n",
       "      <td>True</td>\n",
       "      <td>False</td>\n",
       "    </tr>\n",
       "    <tr>\n",
       "      <th>2</th>\n",
       "      <td>36.476885</td>\n",
       "      <td>44859.282252</td>\n",
       "      <td>1.0</td>\n",
       "      <td>1.0</td>\n",
       "      <td>False</td>\n",
       "      <td>False</td>\n",
       "      <td>False</td>\n",
       "      <td>False</td>\n",
       "      <td>True</td>\n",
       "    </tr>\n",
       "    <tr>\n",
       "      <th>3</th>\n",
       "      <td>45.230299</td>\n",
       "      <td>37965.840962</td>\n",
       "      <td>0.0</td>\n",
       "      <td>0.0</td>\n",
       "      <td>True</td>\n",
       "      <td>False</td>\n",
       "      <td>False</td>\n",
       "      <td>False</td>\n",
       "      <td>False</td>\n",
       "    </tr>\n",
       "    <tr>\n",
       "      <th>4</th>\n",
       "      <td>27.658466</td>\n",
       "      <td>47580.714325</td>\n",
       "      <td>1.0</td>\n",
       "      <td>1.0</td>\n",
       "      <td>False</td>\n",
       "      <td>False</td>\n",
       "      <td>True</td>\n",
       "      <td>False</td>\n",
       "      <td>False</td>\n",
       "    </tr>\n",
       "  </tbody>\n",
       "</table>\n",
       "</div>"
      ],
      "text/plain": [
       "         Age        Income  Registered  Gender_encoded  City_Berlin  \\\n",
       "0  34.967142  28769.438869         1.0             1.0        False   \n",
       "1  28.617357  43690.320159         0.0             0.0        False   \n",
       "2  36.476885  44859.282252         1.0             1.0        False   \n",
       "3  45.230299  37965.840962         0.0             0.0         True   \n",
       "4  27.658466  47580.714325         1.0             1.0        False   \n",
       "\n",
       "   City_Desconocido  City_New York  City_Paris  City_Tokyo  \n",
       "0             False           True       False       False  \n",
       "1             False          False        True       False  \n",
       "2             False          False       False        True  \n",
       "3             False          False       False       False  \n",
       "4             False           True       False       False  "
      ]
     },
     "metadata": {},
     "output_type": "display_data"
    }
   ],
   "source": [
    "# 17. Verificar cambios\n",
    "print(\"\\nDataset después de limpieza categórica:\")\n",
    "display(df_clean.head())"
   ]
  },
  {
   "cell_type": "code",
   "execution_count": 29,
   "id": "792fdb6b",
   "metadata": {},
   "outputs": [
    {
     "data": {
      "image/png": "[encoded data removed]",
      "text/plain": [
       "<Figure size 1000x600 with 1 Axes>"
      ]
     },
     "metadata": {},
     "output_type": "display_data"
    }
   ],
   "source": [
    "# 18. Boxplot para 'Age' y 'Income'\n",
    "import seaborn as sns\n",
    "sns.boxplot(data=df_clean[['Age', 'Income']])\n",
    "plt.show()\n"
   ]
  },
  {
   "cell_type": "code",
   "execution_count": 30,
   "id": "7a6dce66",
   "metadata": {},
   "outputs": [],
   "source": [
    "# 19. Tratar outliers en 'Income' (Winsorization)\n",
    "from scipy.stats.mstats import winsorize\n",
    "df_clean['Income'] = winsorize(df_clean['Income'], limits=[0.05, 0.05])\n"
   ]
  },
  {
   "cell_type": "code",
   "execution_count": 31,
   "id": "7fb4ab77",
   "metadata": {},
   "outputs": [],
   "source": [
    "# 20. Normalizar 'Income' (escala logarítmica)\n",
    "import numpy as np\n",
    "df_clean['Income_log'] = np.log1p(df_clean['Income'])"
   ]
  },
  {
   "cell_type": "code",
   "execution_count": 32,
   "id": "b6f5e5ac",
   "metadata": {},
   "outputs": [],
   "source": [
    "# 21. Binning para 'Age' (ej: rangos de edad)\n",
    "bins = [0, 30, 40, 50, 100]\n",
    "labels = ['<30', '30-40', '40-50', '50+']\n",
    "df_clean['Age_group'] = pd.cut(df_clean['Age'], bins=bins, labels=labels)"
   ]
  },
  {
   "cell_type": "code",
   "execution_count": 33,
   "id": "b6e86b66",
   "metadata": {},
   "outputs": [
    {
     "data": {
      "text/html": [
       "<div>\n",
       "<style scoped>\n",
       "    .dataframe tbody tr th:only-of-type {\n",
       "        vertical-align: middle;\n",
       "    }\n",
       "\n",
       "    .dataframe tbody tr th {\n",
       "        vertical-align: top;\n",
       "    }\n",
       "\n",
       "    .dataframe thead th {\n",
       "        text-align: right;\n",
       "    }\n",
       "</style>\n",
       "<table border=\"1\" class=\"dataframe\">\n",
       "  <thead>\n",
       "    <tr style=\"text-align: right;\">\n",
       "      <th></th>\n",
       "      <th>Age</th>\n",
       "      <th>Age_group</th>\n",
       "      <th>Income</th>\n",
       "      <th>Income_log</th>\n",
       "    </tr>\n",
       "  </thead>\n",
       "  <tbody>\n",
       "    <tr>\n",
       "      <th>0</th>\n",
       "      <td>34.967142</td>\n",
       "      <td>30-40</td>\n",
       "      <td>28769.438869</td>\n",
       "      <td>10.267104</td>\n",
       "    </tr>\n",
       "    <tr>\n",
       "      <th>1</th>\n",
       "      <td>28.617357</td>\n",
       "      <td>&lt;30</td>\n",
       "      <td>43690.320159</td>\n",
       "      <td>10.684905</td>\n",
       "    </tr>\n",
       "    <tr>\n",
       "      <th>2</th>\n",
       "      <td>36.476885</td>\n",
       "      <td>30-40</td>\n",
       "      <td>44859.282252</td>\n",
       "      <td>10.711308</td>\n",
       "    </tr>\n",
       "    <tr>\n",
       "      <th>3</th>\n",
       "      <td>45.230299</td>\n",
       "      <td>40-50</td>\n",
       "      <td>37965.840962</td>\n",
       "      <td>10.544468</td>\n",
       "    </tr>\n",
       "    <tr>\n",
       "      <th>4</th>\n",
       "      <td>27.658466</td>\n",
       "      <td>&lt;30</td>\n",
       "      <td>47580.714325</td>\n",
       "      <td>10.770204</td>\n",
       "    </tr>\n",
       "  </tbody>\n",
       "</table>\n",
       "</div>"
      ],
      "text/plain": [
       "         Age Age_group        Income  Income_log\n",
       "0  34.967142     30-40  28769.438869   10.267104\n",
       "1  28.617357       <30  43690.320159   10.684905\n",
       "2  36.476885     30-40  44859.282252   10.711308\n",
       "3  45.230299     40-50  37965.840962   10.544468\n",
       "4  27.658466       <30  47580.714325   10.770204"
      ]
     },
     "metadata": {},
     "output_type": "display_data"
    }
   ],
   "source": [
    "# 22. Verificar transformaciones\n",
    "display(df_clean[['Age', 'Age_group', 'Income', 'Income_log']].head())"
   ]
  },
  {
   "cell_type": "code",
   "execution_count": 34,
   "id": "6435b92e",
   "metadata": {},
   "outputs": [],
   "source": [
    "# 23. Nueva feature: Income/Age ratio\n",
    "df_clean['Income_Age_Ratio'] = df_clean['Income'] / df_clean['Age']"
   ]
  },
  {
   "cell_type": "code",
   "execution_count": 35,
   "id": "ec4ad369",
   "metadata": {},
   "outputs": [],
   "source": [
    "# 24. Extraer inicial de ciudad (ej: New York -> NY)\n",
    "df_clean['City_initial'] = df_clean['City_New York'].apply(lambda x: 'NY' if x == 1 else 'OT')"
   ]
  },
  {
   "cell_type": "code",
   "execution_count": 36,
   "id": "ead9c4a6",
   "metadata": {},
   "outputs": [
    {
     "data": {
      "text/html": [
       "<div>\n",
       "<style scoped>\n",
       "    .dataframe tbody tr th:only-of-type {\n",
       "        vertical-align: middle;\n",
       "    }\n",
       "\n",
       "    .dataframe tbody tr th {\n",
       "        vertical-align: top;\n",
       "    }\n",
       "\n",
       "    .dataframe thead th {\n",
       "        text-align: right;\n",
       "    }\n",
       "</style>\n",
       "<table border=\"1\" class=\"dataframe\">\n",
       "  <thead>\n",
       "    <tr style=\"text-align: right;\">\n",
       "      <th></th>\n",
       "      <th>Income_Age_Ratio</th>\n",
       "      <th>City_initial</th>\n",
       "    </tr>\n",
       "  </thead>\n",
       "  <tbody>\n",
       "    <tr>\n",
       "      <th>0</th>\n",
       "      <td>822.756382</td>\n",
       "      <td>NY</td>\n",
       "    </tr>\n",
       "    <tr>\n",
       "      <th>1</th>\n",
       "      <td>1526.707032</td>\n",
       "      <td>OT</td>\n",
       "    </tr>\n",
       "    <tr>\n",
       "      <th>2</th>\n",
       "      <td>1229.800236</td>\n",
       "      <td>OT</td>\n",
       "    </tr>\n",
       "    <tr>\n",
       "      <th>3</th>\n",
       "      <td>839.389572</td>\n",
       "      <td>OT</td>\n",
       "    </tr>\n",
       "    <tr>\n",
       "      <th>4</th>\n",
       "      <td>1720.294751</td>\n",
       "      <td>NY</td>\n",
       "    </tr>\n",
       "  </tbody>\n",
       "</table>\n",
       "</div>"
      ],
      "text/plain": [
       "   Income_Age_Ratio City_initial\n",
       "0        822.756382           NY\n",
       "1       1526.707032           OT\n",
       "2       1229.800236           OT\n",
       "3        839.389572           OT\n",
       "4       1720.294751           NY"
      ]
     },
     "metadata": {},
     "output_type": "display_data"
    }
   ],
   "source": [
    "# 25. Verificar nuevas features\n",
    "display(df_clean[['Income_Age_Ratio', 'City_initial']].head())"
   ]
  },
  {
   "cell_type": "code",
   "execution_count": 37,
   "id": "b299aa03",
   "metadata": {},
   "outputs": [],
   "source": [
    "# 26. Guardar dataset limpio\n",
    "df_clean.to_csv('cleaned_data.csv', index=False)"
   ]
  },
  {
   "cell_type": "code",
   "execution_count": 38,
   "id": "65e88f85",
   "metadata": {},
   "outputs": [
    {
     "name": "stdout",
     "output_type": "stream",
     "text": [
      "Resumen:\n",
      "- Filas: 103\n",
      "- Columnas: ['Age', 'Income', 'Registered', 'Gender_encoded', 'City_Berlin', 'City_Desconocido', 'City_New York', 'City_Paris', 'City_Tokyo', 'Income_log', 'Age_group', 'Income_Age_Ratio', 'City_initial']\n"
     ]
    }
   ],
   "source": [
    "# 27. Resumen final\n",
    "print(\"Resumen:\")\n",
    "print(f\"- Filas: {len(df_clean)}\")\n",
    "print(f\"- Columnas: {df_clean.columns.tolist()}\")"
   ]
  },
  {
   "cell_type": "markdown",
   "id": "6901825f",
   "metadata": {},
   "source": [
    "#### Variable Tranformations\n"
   ]
  },
  {
   "cell_type": "code",
   "execution_count": 39,
   "id": "d2971a59",
   "metadata": {},
   "outputs": [
    {
     "name": "stdout",
     "output_type": "stream",
     "text": [
      "Age (original vs normalized):\n"
     ]
    },
    {
     "data": {
      "text/html": [
       "<div>\n",
       "<style scoped>\n",
       "    .dataframe tbody tr th:only-of-type {\n",
       "        vertical-align: middle;\n",
       "    }\n",
       "\n",
       "    .dataframe tbody tr th {\n",
       "        vertical-align: top;\n",
       "    }\n",
       "\n",
       "    .dataframe thead th {\n",
       "        text-align: right;\n",
       "    }\n",
       "</style>\n",
       "<table border=\"1\" class=\"dataframe\">\n",
       "  <thead>\n",
       "    <tr style=\"text-align: right;\">\n",
       "      <th></th>\n",
       "      <th>Age</th>\n",
       "      <th>Age_normalized</th>\n",
       "    </tr>\n",
       "  </thead>\n",
       "  <tbody>\n",
       "    <tr>\n",
       "      <th>0</th>\n",
       "      <td>34.967142</td>\n",
       "      <td>0.319737</td>\n",
       "    </tr>\n",
       "    <tr>\n",
       "      <th>1</th>\n",
       "      <td>28.617357</td>\n",
       "      <td>0.268939</td>\n",
       "    </tr>\n",
       "    <tr>\n",
       "      <th>2</th>\n",
       "      <td>36.476885</td>\n",
       "      <td>0.331815</td>\n",
       "    </tr>\n",
       "    <tr>\n",
       "      <th>3</th>\n",
       "      <td>45.230299</td>\n",
       "      <td>0.401842</td>\n",
       "    </tr>\n",
       "    <tr>\n",
       "      <th>4</th>\n",
       "      <td>27.658466</td>\n",
       "      <td>0.261268</td>\n",
       "    </tr>\n",
       "  </tbody>\n",
       "</table>\n",
       "</div>"
      ],
      "text/plain": [
       "         Age  Age_normalized\n",
       "0  34.967142        0.319737\n",
       "1  28.617357        0.268939\n",
       "2  36.476885        0.331815\n",
       "3  45.230299        0.401842\n",
       "4  27.658466        0.261268"
      ]
     },
     "metadata": {},
     "output_type": "display_data"
    }
   ],
   "source": [
    "# 1. Normalizar 'Age' (Min-Max Scaling)\n",
    "from sklearn.preprocessing import MinMaxScaler\n",
    "\n",
    "scaler_age = MinMaxScaler() # inicializar el escalador\n",
    "df_clean['Age_normalized'] = scaler_age.fit_transform(df_clean[['Age']]) # aplicar la normalización\n",
    "# Mostrar la comparación de 'Age' original y normalizado\n",
    "print(\"Age (original vs normalized):\")\n",
    "display(df_clean[['Age', 'Age_normalized']].head())"
   ]
  },
  {
   "cell_type": "code",
   "execution_count": 40,
   "id": "8f173544",
   "metadata": {},
   "outputs": [
    {
     "name": "stdout",
     "output_type": "stream",
     "text": [
      "\n",
      "Income original vs estandarizado (estadísticas):\n"
     ]
    },
    {
     "data": {
      "text/html": [
       "<div>\n",
       "<style scoped>\n",
       "    .dataframe tbody tr th:only-of-type {\n",
       "        vertical-align: middle;\n",
       "    }\n",
       "\n",
       "    .dataframe tbody tr th {\n",
       "        vertical-align: top;\n",
       "    }\n",
       "\n",
       "    .dataframe thead th {\n",
       "        text-align: right;\n",
       "    }\n",
       "</style>\n",
       "<table border=\"1\" class=\"dataframe\">\n",
       "  <thead>\n",
       "    <tr style=\"text-align: right;\">\n",
       "      <th></th>\n",
       "      <th>Income</th>\n",
       "      <th>Income_standardized</th>\n",
       "    </tr>\n",
       "  </thead>\n",
       "  <tbody>\n",
       "    <tr>\n",
       "      <th>count</th>\n",
       "      <td>103.000000</td>\n",
       "      <td>1.030000e+02</td>\n",
       "    </tr>\n",
       "    <tr>\n",
       "      <th>mean</th>\n",
       "      <td>50289.768964</td>\n",
       "      <td>3.970664e-16</td>\n",
       "    </tr>\n",
       "    <tr>\n",
       "      <th>std</th>\n",
       "      <td>13695.834720</td>\n",
       "      <td>1.004890e+00</td>\n",
       "    </tr>\n",
       "    <tr>\n",
       "      <th>min</th>\n",
       "      <td>28769.438869</td>\n",
       "      <td>-1.578988e+00</td>\n",
       "    </tr>\n",
       "    <tr>\n",
       "      <th>25%</th>\n",
       "      <td>37864.343344</td>\n",
       "      <td>-9.116776e-01</td>\n",
       "    </tr>\n",
       "    <tr>\n",
       "      <th>50%</th>\n",
       "      <td>51261.607549</td>\n",
       "      <td>7.130569e-02</td>\n",
       "    </tr>\n",
       "    <tr>\n",
       "      <th>75%</th>\n",
       "      <td>58315.989946</td>\n",
       "      <td>5.888994e-01</td>\n",
       "    </tr>\n",
       "    <tr>\n",
       "      <th>max</th>\n",
       "      <td>78292.788518</td>\n",
       "      <td>2.054636e+00</td>\n",
       "    </tr>\n",
       "  </tbody>\n",
       "</table>\n",
       "</div>"
      ],
      "text/plain": [
       "             Income  Income_standardized\n",
       "count    103.000000         1.030000e+02\n",
       "mean   50289.768964         3.970664e-16\n",
       "std    13695.834720         1.004890e+00\n",
       "min    28769.438869        -1.578988e+00\n",
       "25%    37864.343344        -9.116776e-01\n",
       "50%    51261.607549         7.130569e-02\n",
       "75%    58315.989946         5.888994e-01\n",
       "max    78292.788518         2.054636e+00"
      ]
     },
     "metadata": {},
     "output_type": "display_data"
    }
   ],
   "source": [
    "# 2. Estandarizar 'Income' (Standard Scaling)\n",
    "from sklearn.preprocessing import StandardScaler\n",
    "\n",
    "scaler_income = StandardScaler()  # Inicializa el escalador\n",
    "df_clean['Income_standardized'] = scaler_income.fit_transform(df_clean[['Income']])  # Transforma\n",
    "\n",
    "# Mostrar la comparación de 'Income' original y estandarizado\n",
    "print(\"\\nIncome original vs estandarizado (estadísticas):\")\n",
    "display(df_clean[['Income', 'Income_standardized']].describe())\n"
   ]
  },
  {
   "cell_type": "code",
   "execution_count": 41,
   "id": "c9721593",
   "metadata": {},
   "outputs": [
    {
     "name": "stdout",
     "output_type": "stream",
     "text": [
      "\n",
      "Income (log-transform):\n"
     ]
    },
    {
     "data": {
      "text/html": [
       "<div>\n",
       "<style scoped>\n",
       "    .dataframe tbody tr th:only-of-type {\n",
       "        vertical-align: middle;\n",
       "    }\n",
       "\n",
       "    .dataframe tbody tr th {\n",
       "        vertical-align: top;\n",
       "    }\n",
       "\n",
       "    .dataframe thead th {\n",
       "        text-align: right;\n",
       "    }\n",
       "</style>\n",
       "<table border=\"1\" class=\"dataframe\">\n",
       "  <thead>\n",
       "    <tr style=\"text-align: right;\">\n",
       "      <th></th>\n",
       "      <th>Income</th>\n",
       "      <th>Income_log</th>\n",
       "    </tr>\n",
       "  </thead>\n",
       "  <tbody>\n",
       "    <tr>\n",
       "      <th>count</th>\n",
       "      <td>103.000000</td>\n",
       "      <td>103.000000</td>\n",
       "    </tr>\n",
       "    <tr>\n",
       "      <th>mean</th>\n",
       "      <td>50289.768964</td>\n",
       "      <td>10.787377</td>\n",
       "    </tr>\n",
       "    <tr>\n",
       "      <th>std</th>\n",
       "      <td>13695.834720</td>\n",
       "      <td>0.281762</td>\n",
       "    </tr>\n",
       "    <tr>\n",
       "      <th>min</th>\n",
       "      <td>28769.438869</td>\n",
       "      <td>10.267104</td>\n",
       "    </tr>\n",
       "    <tr>\n",
       "      <th>25%</th>\n",
       "      <td>37864.343344</td>\n",
       "      <td>10.541788</td>\n",
       "    </tr>\n",
       "    <tr>\n",
       "      <th>50%</th>\n",
       "      <td>51261.607549</td>\n",
       "      <td>10.844717</td>\n",
       "    </tr>\n",
       "    <tr>\n",
       "      <th>75%</th>\n",
       "      <td>58315.989946</td>\n",
       "      <td>10.973614</td>\n",
       "    </tr>\n",
       "    <tr>\n",
       "      <th>max</th>\n",
       "      <td>78292.788518</td>\n",
       "      <td>11.268224</td>\n",
       "    </tr>\n",
       "  </tbody>\n",
       "</table>\n",
       "</div>"
      ],
      "text/plain": [
       "             Income  Income_log\n",
       "count    103.000000  103.000000\n",
       "mean   50289.768964   10.787377\n",
       "std    13695.834720    0.281762\n",
       "min    28769.438869   10.267104\n",
       "25%    37864.343344   10.541788\n",
       "50%    51261.607549   10.844717\n",
       "75%    58315.989946   10.973614\n",
       "max    78292.788518   11.268224"
      ]
     },
     "metadata": {},
     "output_type": "display_data"
    }
   ],
   "source": [
    "# 3. Log-transformar 'Income' para manejar la asimetría\n",
    "import numpy as np\n",
    "\n",
    "df_clean['Income_log'] = np.log1p(df_clean['Income'])  # log(1 + x) para evitar -inf\n",
    "# Mostrar estadísticas de 'Income' log-transformado\n",
    "print(\"\\nIncome (log-transform):\")\n",
    "display(df_clean[['Income', 'Income_log']].describe())"
   ]
  },
  {
   "cell_type": "code",
   "execution_count": 42,
   "id": "d8b8b803",
   "metadata": {},
   "outputs": [
    {
     "name": "stdout",
     "output_type": "stream",
     "text": [
      "\n",
      "Distribución de rangos de edad:\n",
      "Age_binned\n",
      "<30      55\n",
      "30-40    35\n",
      "40-50    11\n",
      "50+       0\n",
      "Name: count, dtype: int64\n"
     ]
    }
   ],
   "source": [
    "# 4. Binning de 'Age' (ejemplo: rangos de edad)\n",
    "bins = [0, 30, 40, 50, 100]  # Límites de los rangos\n",
    "labels = ['<30', '30-40', '40-50', '50+']  # Etiquetas para los rangos\n",
    "df_clean['Age_binned'] = pd.cut(df_clean['Age'], bins=bins, labels=labels)  # Crear la columna de rangos de edad\n",
    "\n",
    "# Mostrar la distribución de los rangos de edad:\n",
    "print(\"\\nDistribución de rangos de edad:\")\n",
    "print(df_clean['Age_binned'].value_counts())"
   ]
  },
  {
   "cell_type": "code",
   "execution_count": 43,
   "id": "0789a968",
   "metadata": {},
   "outputs": [
    {
     "name": "stdout",
     "output_type": "stream",
     "text": [
      "\n",
      "Registered (categorizado):\n",
      "Registered_category\n",
      "No     52\n",
      "Yes    51\n",
      "Name: count, dtype: int64\n"
     ]
    }
   ],
   "source": [
    "# 5. Categorización de 'Registered' (1.0 -> 'Yes', 0.0 -> 'No')\n",
    "df_clean['Registered_category'] = df_clean['Registered'].map({1.0: 'Yes', 0.0: 'No'}) # Mapeo de valores a categorías\n",
    "\n",
    "# Mostrar la distribución de la nueva categoría 'Registered':\n",
    "print(\"\\nRegistered (categorizado):\")\n",
    "print(df_clean['Registered_category'].value_counts())"
   ]
  },
  {
   "cell_type": "code",
   "execution_count": 44,
   "id": "14f35a1c",
   "metadata": {},
   "outputs": [
    {
     "name": "stdout",
     "output_type": "stream",
     "text": [
      "\n",
      "Cuantiles de Income:\n",
      "Income_quantile\n",
      "Q1    26\n",
      "Q2    26\n",
      "Q4    26\n",
      "Q3    25\n",
      "Name: count, dtype: int64\n"
     ]
    },
    {
     "name": "stderr",
     "output_type": "stream",
     "text": [
      "C:\\Users\\braya\\AppData\\Local\\Packages\\PythonSoftwareFoundation.Python.3.11_qbz5n2kfra8p0\\LocalCache\\local-packages\\Python311\\site-packages\\numpy\\lib\\_function_base_impl.py:4842: UserWarning: Warning: 'partition' will ignore the 'mask' of the MaskedArray.\n",
      "  arr.partition(\n"
     ]
    }
   ],
   "source": [
    "# 6. Cuantiles de 'Income' (ejemplo: dividir en 4 cuantiles)\n",
    "df_clean['Income_quantile'] = pd.qcut(df_clean['Income'], q=4, labels=['Q1', 'Q2', 'Q3', 'Q4']) # Dividir 'Income' en 4 cuantiles\n",
    "\n",
    "# Mostrar la distribución de los cuantiles de 'Income':\n",
    "print(\"\\nCuantiles de Income:\")\n",
    "print(df_clean['Income_quantile'].value_counts())"
   ]
  },
  {
   "cell_type": "code",
   "execution_count": 45,
   "id": "59d3cf1f",
   "metadata": {},
   "outputs": [
    {
     "name": "stdout",
     "output_type": "stream",
     "text": [
      "\n",
      "Interacción Age*Income (ejemplos):\n"
     ]
    },
    {
     "data": {
      "text/html": [
       "<div>\n",
       "<style scoped>\n",
       "    .dataframe tbody tr th:only-of-type {\n",
       "        vertical-align: middle;\n",
       "    }\n",
       "\n",
       "    .dataframe tbody tr th {\n",
       "        vertical-align: top;\n",
       "    }\n",
       "\n",
       "    .dataframe thead th {\n",
       "        text-align: right;\n",
       "    }\n",
       "</style>\n",
       "<table border=\"1\" class=\"dataframe\">\n",
       "  <thead>\n",
       "    <tr style=\"text-align: right;\">\n",
       "      <th></th>\n",
       "      <th>Age</th>\n",
       "      <th>Income</th>\n",
       "      <th>Age_Income_Interaction</th>\n",
       "    </tr>\n",
       "  </thead>\n",
       "  <tbody>\n",
       "    <tr>\n",
       "      <th>0</th>\n",
       "      <td>34.967142</td>\n",
       "      <td>28769.438869</td>\n",
       "      <td>1.005985e+06</td>\n",
       "    </tr>\n",
       "    <tr>\n",
       "      <th>1</th>\n",
       "      <td>28.617357</td>\n",
       "      <td>43690.320159</td>\n",
       "      <td>1.250301e+06</td>\n",
       "    </tr>\n",
       "    <tr>\n",
       "      <th>2</th>\n",
       "      <td>36.476885</td>\n",
       "      <td>44859.282252</td>\n",
       "      <td>1.636327e+06</td>\n",
       "    </tr>\n",
       "    <tr>\n",
       "      <th>3</th>\n",
       "      <td>45.230299</td>\n",
       "      <td>37965.840962</td>\n",
       "      <td>1.717206e+06</td>\n",
       "    </tr>\n",
       "    <tr>\n",
       "      <th>4</th>\n",
       "      <td>27.658466</td>\n",
       "      <td>47580.714325</td>\n",
       "      <td>1.316010e+06</td>\n",
       "    </tr>\n",
       "  </tbody>\n",
       "</table>\n",
       "</div>"
      ],
      "text/plain": [
       "         Age        Income  Age_Income_Interaction\n",
       "0  34.967142  28769.438869            1.005985e+06\n",
       "1  28.617357  43690.320159            1.250301e+06\n",
       "2  36.476885  44859.282252            1.636327e+06\n",
       "3  45.230299  37965.840962            1.717206e+06\n",
       "4  27.658466  47580.714325            1.316010e+06"
      ]
     },
     "metadata": {},
     "output_type": "display_data"
    }
   ],
   "source": [
    "# 7. Interacción entre 'Age' e 'Income'\n",
    "df_clean['Age_Income_Interaction'] = df_clean['Age'] * df_clean['Income'] # Crear una nueva columna que sea el producto de 'Age' e 'Income'\n",
    "\n",
    "# Mostrar ejemplos de la nueva interacción:\n",
    "print(\"\\nInteracción Age*Income (ejemplos):\")\n",
    "display(df_clean[['Age', 'Income', 'Age_Income_Interaction']].head())"
   ]
  },
  {
   "cell_type": "code",
   "execution_count": 46,
   "id": "ccf57755",
   "metadata": {},
   "outputs": [
    {
     "name": "stdout",
     "output_type": "stream",
     "text": [
      "\n",
      "Age vs sqrt(Age):\n"
     ]
    },
    {
     "name": "stderr",
     "output_type": "stream",
     "text": [
      "C:\\Users\\braya\\AppData\\Local\\Packages\\PythonSoftwareFoundation.Python.3.11_qbz5n2kfra8p0\\LocalCache\\local-packages\\Python311\\site-packages\\pandas\\core\\arraylike.py:399: RuntimeWarning: invalid value encountered in sqrt\n",
      "  result = getattr(ufunc, method)(*inputs, **kwargs)\n"
     ]
    },
    {
     "data": {
      "text/html": [
       "<div>\n",
       "<style scoped>\n",
       "    .dataframe tbody tr th:only-of-type {\n",
       "        vertical-align: middle;\n",
       "    }\n",
       "\n",
       "    .dataframe tbody tr th {\n",
       "        vertical-align: top;\n",
       "    }\n",
       "\n",
       "    .dataframe thead th {\n",
       "        text-align: right;\n",
       "    }\n",
       "</style>\n",
       "<table border=\"1\" class=\"dataframe\">\n",
       "  <thead>\n",
       "    <tr style=\"text-align: right;\">\n",
       "      <th></th>\n",
       "      <th>Age</th>\n",
       "      <th>Age_sqrt</th>\n",
       "    </tr>\n",
       "  </thead>\n",
       "  <tbody>\n",
       "    <tr>\n",
       "      <th>0</th>\n",
       "      <td>34.967142</td>\n",
       "      <td>5.913302</td>\n",
       "    </tr>\n",
       "    <tr>\n",
       "      <th>1</th>\n",
       "      <td>28.617357</td>\n",
       "      <td>5.349519</td>\n",
       "    </tr>\n",
       "    <tr>\n",
       "      <th>2</th>\n",
       "      <td>36.476885</td>\n",
       "      <td>6.039610</td>\n",
       "    </tr>\n",
       "    <tr>\n",
       "      <th>3</th>\n",
       "      <td>45.230299</td>\n",
       "      <td>6.725347</td>\n",
       "    </tr>\n",
       "    <tr>\n",
       "      <th>4</th>\n",
       "      <td>27.658466</td>\n",
       "      <td>5.259132</td>\n",
       "    </tr>\n",
       "  </tbody>\n",
       "</table>\n",
       "</div>"
      ],
      "text/plain": [
       "         Age  Age_sqrt\n",
       "0  34.967142  5.913302\n",
       "1  28.617357  5.349519\n",
       "2  36.476885  6.039610\n",
       "3  45.230299  6.725347\n",
       "4  27.658466  5.259132"
      ]
     },
     "metadata": {},
     "output_type": "display_data"
    }
   ],
   "source": [
    "# 8. Transformación de 'Age' (ejemplo: raíz cuadrada)\n",
    "df_clean['Age_sqrt'] = np.sqrt(df_clean['Age']) # Aplicar la raíz cuadrada a 'Age' para reducir la asimetría\n",
    "\n",
    "# Mostrar ejemplos de la transformación de 'Age':\n",
    "print(\"\\nAge vs sqrt(Age):\")\n",
    "display(df_clean[['Age', 'Age_sqrt']].head())"
   ]
  },
  {
   "cell_type": "code",
   "execution_count": 47,
   "id": "7986abfe",
   "metadata": {},
   "outputs": [
    {
     "name": "stdout",
     "output_type": "stream",
     "text": [
      "\n",
      "Codificación por frecuencia de 'City':\n"
     ]
    },
    {
     "data": {
      "text/html": [
       "<div>\n",
       "<style scoped>\n",
       "    .dataframe tbody tr th:only-of-type {\n",
       "        vertical-align: middle;\n",
       "    }\n",
       "\n",
       "    .dataframe tbody tr th {\n",
       "        vertical-align: top;\n",
       "    }\n",
       "\n",
       "    .dataframe thead th {\n",
       "        text-align: right;\n",
       "    }\n",
       "</style>\n",
       "<table border=\"1\" class=\"dataframe\">\n",
       "  <thead>\n",
       "    <tr style=\"text-align: right;\">\n",
       "      <th></th>\n",
       "      <th>City_New York</th>\n",
       "      <th>City_freq_encoded</th>\n",
       "    </tr>\n",
       "  </thead>\n",
       "  <tbody>\n",
       "    <tr>\n",
       "      <th>0</th>\n",
       "      <td>True</td>\n",
       "      <td>0.252427</td>\n",
       "    </tr>\n",
       "    <tr>\n",
       "      <th>1</th>\n",
       "      <td>False</td>\n",
       "      <td>0.747573</td>\n",
       "    </tr>\n",
       "    <tr>\n",
       "      <th>2</th>\n",
       "      <td>False</td>\n",
       "      <td>0.747573</td>\n",
       "    </tr>\n",
       "    <tr>\n",
       "      <th>3</th>\n",
       "      <td>False</td>\n",
       "      <td>0.747573</td>\n",
       "    </tr>\n",
       "    <tr>\n",
       "      <th>4</th>\n",
       "      <td>True</td>\n",
       "      <td>0.252427</td>\n",
       "    </tr>\n",
       "  </tbody>\n",
       "</table>\n",
       "</div>"
      ],
      "text/plain": [
       "   City_New York  City_freq_encoded\n",
       "0           True           0.252427\n",
       "1          False           0.747573\n",
       "2          False           0.747573\n",
       "3          False           0.747573\n",
       "4           True           0.252427"
      ]
     },
     "metadata": {},
     "output_type": "display_data"
    }
   ],
   "source": [
    "# 9. Codificación por frecuencia de 'City' (ejemplo: Nueva York)\n",
    "city_freq = df_clean['City_New York'].value_counts(normalize=True)  # Frecuencia de cada ciudad\n",
    "df_clean['City_freq_encoded'] = df_clean['City_New York'].map(city_freq)  # mapear la frecuencia a una nueva columna\n",
    "\n",
    "# Mostrar ejemplos de la codificación por frecuencia de 'City':\n",
    "print(\"\\nCodificación por frecuencia de 'City':\")\n",
    "display(df_clean[['City_New York', 'City_freq_encoded']].head())"
   ]
  },
  {
   "cell_type": "code",
   "execution_count": 48,
   "id": "6d355c3b",
   "metadata": {},
   "outputs": [
    {
     "name": "stdout",
     "output_type": "stream",
     "text": [
      "\n",
      "Yeo-Johnson (Income):\n"
     ]
    },
    {
     "data": {
      "text/html": [
       "<div>\n",
       "<style scoped>\n",
       "    .dataframe tbody tr th:only-of-type {\n",
       "        vertical-align: middle;\n",
       "    }\n",
       "\n",
       "    .dataframe tbody tr th {\n",
       "        vertical-align: top;\n",
       "    }\n",
       "\n",
       "    .dataframe thead th {\n",
       "        text-align: right;\n",
       "    }\n",
       "</style>\n",
       "<table border=\"1\" class=\"dataframe\">\n",
       "  <thead>\n",
       "    <tr style=\"text-align: right;\">\n",
       "      <th></th>\n",
       "      <th>Income</th>\n",
       "      <th>Income_yeojohnson</th>\n",
       "    </tr>\n",
       "  </thead>\n",
       "  <tbody>\n",
       "    <tr>\n",
       "      <th>count</th>\n",
       "      <td>103.000000</td>\n",
       "      <td>1.030000e+02</td>\n",
       "    </tr>\n",
       "    <tr>\n",
       "      <th>mean</th>\n",
       "      <td>50289.768964</td>\n",
       "      <td>-2.864483e-16</td>\n",
       "    </tr>\n",
       "    <tr>\n",
       "      <th>std</th>\n",
       "      <td>13695.834720</td>\n",
       "      <td>1.004890e+00</td>\n",
       "    </tr>\n",
       "    <tr>\n",
       "      <th>min</th>\n",
       "      <td>28769.438869</td>\n",
       "      <td>-1.731124e+00</td>\n",
       "    </tr>\n",
       "    <tr>\n",
       "      <th>25%</th>\n",
       "      <td>37864.343344</td>\n",
       "      <td>-8.988226e-01</td>\n",
       "    </tr>\n",
       "    <tr>\n",
       "      <th>50%</th>\n",
       "      <td>51261.607549</td>\n",
       "      <td>1.459752e-01</td>\n",
       "    </tr>\n",
       "    <tr>\n",
       "      <th>75%</th>\n",
       "      <td>58315.989946</td>\n",
       "      <td>6.354451e-01</td>\n",
       "    </tr>\n",
       "    <tr>\n",
       "      <th>max</th>\n",
       "      <td>78292.788518</td>\n",
       "      <td>1.866020e+00</td>\n",
       "    </tr>\n",
       "  </tbody>\n",
       "</table>\n",
       "</div>"
      ],
      "text/plain": [
       "             Income  Income_yeojohnson\n",
       "count    103.000000       1.030000e+02\n",
       "mean   50289.768964      -2.864483e-16\n",
       "std    13695.834720       1.004890e+00\n",
       "min    28769.438869      -1.731124e+00\n",
       "25%    37864.343344      -8.988226e-01\n",
       "50%    51261.607549       1.459752e-01\n",
       "75%    58315.989946       6.354451e-01\n",
       "max    78292.788518       1.866020e+00"
      ]
     },
     "metadata": {},
     "output_type": "display_data"
    }
   ],
   "source": [
    "# 10. Transformación Yeo-Johnson de 'Income' (para manejar asimetrías)\n",
    "from sklearn.preprocessing import PowerTransformer\n",
    "\n",
    "pt = PowerTransformer(method='yeo-johnson')  # Inicializar el transformador Yeo-Johnson\n",
    "df_clean['Income_yeojohnson'] = pt.fit_transform(df_clean[['Income']])  # Aplicar la transformación Yeo-Johnson a 'Income'\n",
    "\n",
    "# Mostrar estadísticas de 'Income' transformado con Yeo-Johnson:\n",
    "print(\"\\nYeo-Johnson (Income):\")\n",
    "display(df_clean[['Income', 'Income_yeojohnson']].describe())"
   ]
  },
  {
   "cell_type": "code",
   "execution_count": 49,
   "id": "a270a19f",
   "metadata": {},
   "outputs": [
    {
     "name": "stdout",
     "output_type": "stream",
     "text": [
      "¡Dataset transformado guardado en 'transformed_data.csv'!\n"
     ]
    }
   ],
   "source": [
    "# 11. Guardar el dataset transformado\n",
    "df_clean.to_csv('transformed_data.csv', index=False) # Guardar el dataset transformado en un nuevo archivo CSV\n",
    "print(\"¡Dataset transformado guardado en 'transformed_data.csv'!\")"
   ]
  },
  {
   "cell_type": "markdown",
   "id": "308e4a1a",
   "metadata": {},
   "source": [
    "#### Exportación de Datos Limpios"
   ]
  }
 ],
 "metadata": {
  "kernelspec": {
   "display_name": "Python 3",
   "language": "python",
   "name": "python3"
  },
  "language_info": {
   "codemirror_mode": {
    "name": "ipython",
    "version": 3
   },
   "file_extension": ".py",
   "mimetype": "text/x-python",
   "name": "python",
   "nbconvert_exporter": "python",
   "pygments_lexer": "ipython3",
   "version": "3.11.9"
  }
 },
 "nbformat": 4,
 "nbformat_minor": 5
}
